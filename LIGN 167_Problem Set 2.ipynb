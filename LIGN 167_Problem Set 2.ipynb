{
 "cells": [
  {
   "cell_type": "markdown",
   "metadata": {},
   "source": [
    "## LIGN 167: Problem Set 2\n",
    "### Name: Chih-Hsuan Kao\n",
    "### Date: Oct 18, 2018"
   ]
  },
  {
   "cell_type": "code",
   "execution_count": 1,
   "metadata": {},
   "outputs": [],
   "source": [
    "import numpy as np"
   ]
  },
  {
   "cell_type": "code",
   "execution_count": 2,
   "metadata": {},
   "outputs": [],
   "source": [
    "def sigmoid(x):\n",
    "    #Numerically stable sigmoid function.\n",
    "    #Taken from: https://timvieira.github.io/blog/post/2014/02/11/exp-normalize-trick/\n",
    "    if x >= 0:\n",
    "        z = np.exp(-x)\n",
    "        return 1 / (1 + z)\n",
    "    else:\n",
    "        # if x is less than zero then z will be small, denom can't be\n",
    "        # zero because it's 1+z.\n",
    "        z = np.exp(x)\n",
    "        return z / (1 + z)"
   ]
  },
  {
   "cell_type": "code",
   "execution_count": 3,
   "metadata": {},
   "outputs": [],
   "source": [
    "def sample_logistic_distribution(x,a):\n",
    "    #np.random.seed(1)\n",
    "    num_samples = len(x)\n",
    "    y = np.empty(num_samples)\n",
    "    for i in range(num_samples):\n",
    "        y[i] = np.random.binomial(1,logistic_positive_prob(x[i],a))\n",
    "    return y"
   ]
  },
  {
   "cell_type": "code",
   "execution_count": 4,
   "metadata": {},
   "outputs": [],
   "source": [
    "def create_input_values(dim,num_samples):\n",
    "    #np.random.seed(100)\n",
    "    x_inputs = []\n",
    "    for i in range(num_samples):\n",
    "        x = 10*np.random.rand(dim)-5\n",
    "        x_inputs.append(x)\n",
    "    return x_inputs"
   ]
  },
  {
   "cell_type": "code",
   "execution_count": 5,
   "metadata": {},
   "outputs": [],
   "source": [
    "def create_dataset():\n",
    "    x= create_input_values(2,100)\n",
    "    a=np.array([10,10])\n",
    "    y=sample_logistic_distribution(x,a)\n",
    "\n",
    "    return x,y"
   ]
  },
  {
   "cell_type": "code",
   "execution_count": 6,
   "metadata": {},
   "outputs": [],
   "source": [
    "# PROBLEM 1\n",
    "#time vector OK\n",
    "def logistic_positive_prob(x,a):\n",
    "    return sigmoid(np.inner(x,a))"
   ]
  },
  {
   "cell_type": "code",
   "execution_count": 7,
   "metadata": {},
   "outputs": [],
   "source": [
    "# PROBLEM 2\n",
    "#formula 10\n",
    "def logistic_derivative_per_datapoint(y_i,x_i,a,j):\n",
    "    return -(y_i - logistic_positive_prob(x_i, a))*x_i[j]"
   ]
  },
  {
   "cell_type": "code",
   "execution_count": 8,
   "metadata": {},
   "outputs": [],
   "source": [
    "# PROBLEM 3 \n",
    "#Equation 12\n",
    "def logistic_partial_derivative(y,x,a,j):\n",
    "    sum= 0\n",
    "    for i in range(len(x)):\n",
    "        sum = sum + logistic_derivative_per_datapoint(y[i],x[i],a,j)\n",
    "    return sum"
   ]
  },
  {
   "cell_type": "code",
   "execution_count": 9,
   "metadata": {},
   "outputs": [],
   "source": [
    "# PROBLEM 4\n",
    "# a=length k np, y=length n np, x=n lists, each list contain a k length np array.\n",
    "# return partial derivative of loss function\n",
    "def compute_logistic_gradient(a,y,x):\n",
    "    b = np.ones(len(a))\n",
    "    for i in range(len(a)):\n",
    "        b[i] = logistic_partial_derivative(y,x,a,i)\n",
    "    return b"
   ]
  },
  {
   "cell_type": "code",
   "execution_count": 10,
   "metadata": {},
   "outputs": [],
   "source": [
    "# PROBLEM 5\n",
    "#a=length k np array, lr=learnig rate, gradient=np array of length k\n",
    "def gradient_update(a,lr,gradient):\n",
    "    return a - lr*gradient"
   ]
  },
  {
   "cell_type": "code",
   "execution_count": 11,
   "metadata": {},
   "outputs": [],
   "source": [
    "# PROBLEM 6\n",
    "#initial_a=np array of length k, lr = learning rate, y=np array of length n, x=n lists, each list contains a np len k\n",
    "# return a of gradient descent logistic\n",
    "def gradient_descent_logistic(initial_a,lr,num_iterations,y,x):\n",
    "    a = initial_a\n",
    "    for i in range(num_iterations):\n",
    "        a = gradient_update(initial_a, lr, compute_logistic_gradient(a,y,x))\n",
    "        initial_a = a\n",
    "    return a\n",
    "    "
   ]
  },
  {
   "cell_type": "markdown",
   "metadata": {},
   "source": [
    "\n"
   ]
  },
  {
   "cell_type": "code",
   "execution_count": 12,
   "metadata": {},
   "outputs": [
    {
     "data": {
      "image/png": "[encoded data removed]",
      "text/plain": [
       "<Figure size 432x288 with 1 Axes>"
      ]
     },
     "metadata": {
      "needs_background": "light"
     },
     "output_type": "display_data"
    }
   ],
   "source": [
    "# PROBLEM 7\n",
    "# Please include your generated graphs in this zipped folder when you submit.\n",
    "# Comment out your calls to matplotlib (e.g. plt.show()) before submitting\n",
    "import matplotlib.pyplot as plt\n",
    "x,y = create_dataset()\n",
    "x1=np.ones(100)\n",
    "x2=np.ones(100)\n",
    "for i in range(100):\n",
    "    x1[i] = x[i][0]\n",
    "    x2[i] = x[i][1]\n",
    "x1 = np.reshape(x1,100)\n",
    "x2 = np.reshape(x2,100)\n",
    "\n",
    "plt.scatter(x1,x2,c=y)\n",
    "plt.show()"
   ]
  },
  {
   "cell_type": "code",
   "execution_count": 13,
   "metadata": {},
   "outputs": [
    {
     "name": "stdout",
     "output_type": "stream",
     "text": [
      "-1 -1:  [6.17092594 5.87946832]\n"
     ]
    }
   ],
   "source": [
    "# PROBLEM 8\n",
    "# Free Response Answer Here: \n",
    "x,y = create_dataset()\n",
    "initial_a = np.ones(2) * -1\n",
    "lr = 0.01\n",
    "num_iterations = 1000\n",
    "a = gradient_descent_logistic(initial_a,lr,num_iterations,y,x)\n",
    "print(\"-1 -1: \", a)"
   ]
  },
  {
   "cell_type": "code",
   "execution_count": 14,
   "metadata": {},
   "outputs": [
    {
     "name": "stdout",
     "output_type": "stream",
     "text": [
      "1 0:  [6.18185856 5.88986881]\n",
      "0 -1:  [6.17501121 5.88335474]\n"
     ]
    }
   ],
   "source": [
    "# PROBLEM 9\n",
    "# Free Response Answer Here: \n",
    "#x,y = create_dataset()\n",
    "initial_a = np.ones(2)\n",
    "a[1] = 0\n",
    "lr = 0.01\n",
    "num_iterations = 1000\n",
    "a = gradient_descent_logistic(initial_a,lr,num_iterations,y,x)\n",
    "print(\"1 0: \", a)\n",
    "#x,y = create_dataset()\n",
    "initial_a = np.zeros(2)\n",
    "a[1] = -1\n",
    "lr = 0.01\n",
    "num_iterations = 1000\n",
    "a = gradient_descent_logistic(initial_a,lr,num_iterations,y,x)\n",
    "print(\"0 -1: \", a)"
   ]
  },
  {
   "cell_type": "code",
   "execution_count": 15,
   "metadata": {},
   "outputs": [
    {
     "name": "stdout",
     "output_type": "stream",
     "text": [
      "lr=0.1 -1 -1:  [17.78340064 16.94966   ]\n",
      "lr=0.001 -1 -1:  [2.78167442 2.65778363]\n"
     ]
    }
   ],
   "source": [
    "# PROBLEM 10\n",
    "# Free Response Answer Here: \n",
    "#x,y = create_dataset()\n",
    "initial_a = np.ones(2) * -1\n",
    "lr = 0.1\n",
    "num_iterations = 1000\n",
    "a = gradient_descent_logistic(initial_a,lr,num_iterations,y,x)\n",
    "print(\"lr=0.1 -1 -1: \", a)\n",
    "#x,y = create_dataset()\n",
    "initial_a = np.ones(2)\n",
    "a[1] = 0\n",
    "lr = 0.001\n",
    "num_iterations = 1000\n",
    "a = gradient_descent_logistic(initial_a,lr,num_iterations,y,x)\n",
    "print(\"lr=0.001 -1 -1: \", a)\n"
   ]
  },
  {
   "cell_type": "code",
   "execution_count": 16,
   "metadata": {},
   "outputs": [],
   "source": [
    "# PROBLEM 11\n",
    "\n",
    "def logistic_l2_partial_derivative(y,x,a,j):\n",
    "    sum1 = 0\n",
    "    for i in range(len(x)):\n",
    "        sum1 = sum1 + logistic_derivative_per_datapoint(y[i],x[i],a,j)\n",
    "    var_lambda = 0.1\n",
    "    \n",
    "    return sum1 + 2*var_lambda*a[j]"
   ]
  },
  {
   "cell_type": "code",
   "execution_count": 17,
   "metadata": {},
   "outputs": [],
   "source": [
    "# PROBLEM 12\n",
    "# a=length k np, y=length n np, x=n lists, each list contain a k length np array.\n",
    "def compute_logistic_l2_gradient(a,y,x):\n",
    "    \n",
    "    return_array = np.ones(len(a))\n",
    "    for i in range(len(a)):\n",
    "        return_array[i] = logistic_l2_partial_derivative(y,x,a,i)\n",
    "    return return_array\n"
   ]
  },
  {
   "cell_type": "code",
   "execution_count": 18,
   "metadata": {},
   "outputs": [],
   "source": [
    "# PROBLEM 13\n",
    "#This is a generalization for problem 6. \n",
    "#A gradient descent algorithm which works for optimizing arbitrary functions.\n",
    "\n",
    "#this is a function that actually runs the gradient descent algorithm for iterations\n",
    "#will call gradient_fn to compute gradient for EACH iteration\n",
    "def gradient_descent(initial_a,lr,num_iterations,y,x,gradient_fn):\n",
    "    return_arr = initial_a\n",
    "    #As in problem 5 and 6\n",
    "    for i in range(num_iterations):\n",
    "        return_arr = return_arr - lr * gradient_fn(initial_a,y,x)\n",
    "        initial_a = return_arr\n",
    "    #after all iterations, return final estimate of the paramter of the parameter vector a\n",
    "    return return_arr\n",
    "    \n"
   ]
  },
  {
   "cell_type": "code",
   "execution_count": 19,
   "metadata": {},
   "outputs": [
    {
     "name": "stdout",
     "output_type": "stream",
     "text": [
      "[3.29889027 3.1487949 ]\n"
     ]
    }
   ],
   "source": [
    "# PROBLEM 14\n",
    "\n",
    "initial_a = np.ones(2)*(-1)\n",
    "#x,y = create_dataset()\n",
    "\n",
    "print(gradient_descent(initial_a, 0.01, 1000, y, x, compute_logistic_l2_gradient))\n",
    "\n",
    "\n",
    "# Free Response Answer Here: \n",
    "#smaller?"
   ]
  },
  {
   "cell_type": "code",
   "execution_count": 20,
   "metadata": {},
   "outputs": [],
   "source": [
    "# PROBLEM 15\n",
    "\n",
    "#lambda = 0.1 PROBLEM 14 array is\n",
    "#array([ 47.3738662  340.51674194])\n",
    "\n",
    "#lambda = 0.01 PROBLEM 14 array becomes\n",
    "#array([459.58209309 821.35731469])\n",
    "\n",
    "##lambda = 1 PROBLEM 14 array becomes\n",
    "#array([-64.81575187 111.44467607])\n",
    "\n",
    "##lambda = 10 PROBLEM 14 array becomes\n",
    "#array([-52.06931485  57.05594827])"
   ]
  }
 ],
 "metadata": {
  "kernelspec": {
   "display_name": "cs224n",
   "language": "python",
   "name": "cs224n"
  },
  "language_info": {
   "codemirror_mode": {
    "name": "ipython",
    "version": 3
   },
   "file_extension": ".py",
   "mimetype": "text/x-python",
   "name": "python",
   "nbconvert_exporter": "python",
   "pygments_lexer": "ipython3",
   "version": "3.7.9"
  }
 },
 "nbformat": 4,
 "nbformat_minor": 2
}
