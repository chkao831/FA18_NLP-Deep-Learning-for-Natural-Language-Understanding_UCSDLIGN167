{
 "cells": [
  {
   "cell_type": "markdown",
   "metadata": {},
   "source": [
    "## LIGN 167: Problem Set 1\n",
    "### Name: Chih-Hsuan Kao\n",
    "### Date: October 5, 2018"
   ]
  },
  {
   "cell_type": "markdown",
   "metadata": {},
   "source": [
    "Problem 1"
   ]
  },
  {
   "cell_type": "code",
   "execution_count": 1,
   "metadata": {},
   "outputs": [],
   "source": [
    "#given two numpy array return estimated value of the slope\n",
    "import numpy as np\n",
    "def compute_slope_estimator(x, y):\n",
    "    sumX=sumY=sumXY=sumXsquare=0;\n",
    "    for i in range(len(x)):\n",
    "        sumXY = sumXY + x[i] * y[i]\n",
    "        sumXsquare = sumXsquare + x[i]*x[i]\n",
    "    slope = (sumXY - len(x)*np.average(x)*np.average(y))/(sumXsquare - len(x)*np.average(x)*np.average(x))\n",
    "    return slope"
   ]
  },
  {
   "cell_type": "markdown",
   "metadata": {},
   "source": [
    "Problem 2"
   ]
  },
  {
   "cell_type": "code",
   "execution_count": 2,
   "metadata": {},
   "outputs": [],
   "source": [
    "#given two numpy array x,y return the value of intercept b\n",
    "def compute_intercept_estimator(x,y):\n",
    "    return (np.average(y) - compute_slope_estimator(x,y) * np.average(x) )"
   ]
  },
  {
   "cell_type": "markdown",
   "metadata": {},
   "source": [
    "Problem 3"
   ]
  },
  {
   "cell_type": "code",
   "execution_count": 4,
   "metadata": {},
   "outputs": [],
   "source": [
    "#given two array return the tuple of values\n",
    "def train_model(x,training_set):\n",
    "    return(compute_slope_estimator(x,training_set) , compute_intercept_estimator(x,training_set))"
   ]
  },
  {
   "cell_type": "markdown",
   "metadata": {},
   "source": [
    "Problem 4"
   ]
  },
  {
   "cell_type": "code",
   "execution_count": 5,
   "metadata": {},
   "outputs": [],
   "source": [
    "#given four paramter return numpy array y\n",
    "#x_vals=[1,2,3,4]\n",
    "#a=1\n",
    "#b=1\n",
    "#sd=1\n",
    "##########################################\n",
    "def sample_linear_model(x,slope,intercept,sd):\n",
    "    y = np.zeros(shape=(len(x),1))\n",
    "    epsilon = np.random.normal(0, sd, len(x))\n",
    "    for i in range(len(x)):\n",
    "        y[i] = slope*x[i]+intercept+epsilon[i]\n",
    "    return y\n",
    "\n",
    "#g=sample_linear_model(x_vals,a,b,sd)"
   ]
  },
  {
   "cell_type": "markdown",
   "metadata": {},
   "source": [
    "Problem 5"
   ]
  },
  {
   "cell_type": "code",
   "execution_count": 6,
   "metadata": {},
   "outputs": [],
   "source": [
    "#return a list of dataset\n",
    "\n",
    "#x=[1,2,3,4]\n",
    "#slope=1\n",
    "#intercept=1\n",
    "#sd=1\n",
    "#n=2\n",
    "\n",
    "def sample_datasets(x,slope,intercept,sd,n):\n",
    "    t = []\n",
    "    for i in range(n):\n",
    "        t.append(sample_linear_model(x,slope,intercept,sd))\n",
    "    return t\n",
    "\n",
    "#g=sample_datasets(x,slope,intercept,sd,n)\n",
    "#g"
   ]
  },
  {
   "cell_type": "markdown",
   "metadata": {},
   "source": [
    "Problem 6"
   ]
  },
  {
   "cell_type": "code",
   "execution_count": 7,
   "metadata": {},
   "outputs": [],
   "source": [
    "def compute_average_estimated_slope(x_vals,a=1,b=1,sd=1):\n",
    "    n = 1000\n",
    "    trainingSet = sample_datasets(x_vals,a,b,sd,n)\n",
    "    sumSlope=0\n",
    "    for i in range(n):\n",
    "        sumSlope = sumSlope + compute_slope_estimator(x_vals, trainingSet[i])\n",
    "    return sumSlope/1000"
   ]
  },
  {
   "cell_type": "markdown",
   "metadata": {},
   "source": [
    "Problem 7 <br>\n",
    "Free response answer:\n",
    "As n increase the average estimated slope become more accurate.\n",
    "Initially, n=5 the slope was 0.998208.\n",
    "Then, n=10, the slope was 0.98593583.\n",
    "Finally, n=1000, the slope was 1.00140381, which was close to 1."
   ]
  },
  {
   "cell_type": "code",
   "execution_count": 9,
   "metadata": {},
   "outputs": [],
   "source": [
    "#print out the different value of x_vals\n",
    "\n",
    "#test code is commented out below\n",
    "\n",
    "x_vals = np.linspace(0,1,5)\n",
    "a= compute_average_estimated_slope(x_vals)\n",
    "#print(\"n=5: \",a)\n",
    "x_vals = np.linspace(0,1,100)\n",
    "a= compute_average_estimated_slope(x_vals)\n",
    "#print(\"n=100: \",a)\n",
    "x_vals = np.linspace(0,1,1000)\n",
    "a= compute_average_estimated_slope(x_vals)\n",
    "#print(\"n=1000: \",a)"
   ]
  },
  {
   "cell_type": "markdown",
   "metadata": {},
   "source": [
    "Problem 8 <br>\n",
    "Free response answer: As n increase the estimated error decrease. Initially, n=5 the error was 1.602. Then, n=10, the error was 0.11709. Finally, n=1000, the error was 0.01118"
   ]
  },
  {
   "cell_type": "code",
   "execution_count": 10,
   "metadata": {},
   "outputs": [],
   "source": [
    "#Problem 8 retrun the average square error of the estimated slope\n",
    "def compute_estimated_slope_error(x_vals,a=1,b=1,sd=1):\n",
    "    n = 1000\n",
    "    trainingSet = sample_datasets(x_vals,a,b,sd,n)\n",
    "    sumSlope=0\n",
    "    for i in range(n):\n",
    "        sumSlope = sumSlope + (1 - (compute_slope_estimator(x_vals, trainingSet[i])))*(1 - (compute_slope_estimator(x_vals, trainingSet[i])))\n",
    "    return sumSlope/1000\n",
    "\n",
    "x_vals = np.linspace(0,1,5)\n",
    "a= compute_estimated_slope_error(x_vals)\n",
    "#print(\"n=5: \",a)\n",
    "x_vals = np.linspace(0,1,100)\n",
    "a= compute_estimated_slope_error(x_vals)\n",
    "#print(\"n=100: \",a)\n",
    "x_vals = np.linspace(0,1,1000)\n",
    "a= compute_estimated_slope_error(x_vals)\n",
    "#print(\"n=1000: \",a)"
   ]
  },
  {
   "cell_type": "markdown",
   "metadata": {},
   "source": [
    "Problem 9: <br>\n",
    "Free response answer: As n increase the histagram plot become more concetrate to the mean 1.My plot use the automatic bin option. Therefore, the plotslooks like the same, but the x axis is different."
   ]
  },
  {
   "cell_type": "code",
   "execution_count": 11,
   "metadata": {},
   "outputs": [
    {
     "data": {
      "text/plain": [
       "<Figure size 640x480 with 1 Axes>"
      ]
     },
     "metadata": {},
     "output_type": "display_data"
    }
   ],
   "source": [
    "#n=5 problem9\n",
    "\n",
    "import matplotlib.pyplot as plt\n",
    "x_vals = np.linspace(0,1,5)\n",
    "a= compute_estimated_slope_error(x_vals)\n",
    "a = 1\n",
    "b = 1    \n",
    "sd = 1\n",
    "n = 1000\n",
    "trainingSet = sample_datasets(x_vals,a,b,sd,n)\n",
    "x=np.zeros(shape=(1000,1))\n",
    "for i in range(n):\n",
    "    x[i] = (compute_slope_estimator(x_vals, trainingSet[i]))\n",
    "n,bins,patches = plt.hist(x,bins='auto',facecolor='blue',alpha=0.5)\n",
    "plt.show()"
   ]
  },
  {
   "cell_type": "code",
   "execution_count": 12,
   "metadata": {},
   "outputs": [
    {
     "data": {
      "image/png": "[encoded data removed]",
      "text/plain": [
       "<Figure size 432x288 with 1 Axes>"
      ]
     },
     "metadata": {
      "needs_background": "light"
     },
     "output_type": "display_data"
    }
   ],
   "source": [
    "#n=100 problem9\n",
    "x_vals = np.linspace(0,1,100)\n",
    "a= compute_estimated_slope_error(x_vals)\n",
    "a = 1\n",
    "b = 1    \n",
    "sd = 1\n",
    "n = 1000\n",
    "trainingSet = sample_datasets(x_vals,a,b,sd,n)\n",
    "x=np.zeros(shape=(1000,1))\n",
    "for i in range(n):\n",
    "    x[i] = (compute_slope_estimator(x_vals, trainingSet[i]))\n",
    "n,bins,patches = plt.hist(x,bins='auto',facecolor='blue',alpha=0.5)\n",
    "plt.show() "
   ]
  },
  {
   "cell_type": "code",
   "execution_count": 13,
   "metadata": {},
   "outputs": [
    {
     "data": {
      "image/png": "[encoded data removed]",
      "text/plain": [
       "<Figure size 432x288 with 1 Axes>"
      ]
     },
     "metadata": {
      "needs_background": "light"
     },
     "output_type": "display_data"
    }
   ],
   "source": [
    "#n=1000 problem9\n",
    "x_vals = np.linspace(0,1,1000)\n",
    "a= compute_estimated_slope_error(x_vals)\n",
    "a = 1\n",
    "b = 1    \n",
    "sd = 1\n",
    "n = 1000\n",
    "trainingSet = sample_datasets(x_vals,a,b,sd,n)\n",
    "x=np.zeros(shape=(1000,1))\n",
    "for i in range(n):\n",
    "    x[i] = (compute_slope_estimator(x_vals, trainingSet[i]))\n",
    "n,bins,patches = plt.hist(x,bins='auto',facecolor='blue',alpha=0.5)\n",
    "plt.show() "
   ]
  },
  {
   "cell_type": "markdown",
   "metadata": {},
   "source": [
    "Problem 10 <br>\n",
    "return the average square different btw arrays"
   ]
  },
  {
   "cell_type": "code",
   "execution_count": 14,
   "metadata": {},
   "outputs": [],
   "source": [
    "# return the average square different btw arrays\n",
    "#y=[1,1,1,1]\n",
    "#y_hat=[4,4,4,4]\n",
    "\n",
    "def calculate_prediction_error(y, y_hat):\n",
    "    sumError=0\n",
    "    for i in range(len(y)):\n",
    "        sumError = sumError + (y[i]-y_hat[i])*(y[i]-y_hat[i])\n",
    "    return sumError / len(y)\n",
    "\n",
    "#b=calculate_prediction_error(y, y_hat)\n",
    "#b"
   ]
  },
  {
   "cell_type": "markdown",
   "metadata": {},
   "source": [
    "Problem 11 <br>\n",
    "Free response answer: As n increase the average_training_set_error increase and become more close to the vlaue 1. I suppose the reason is that we are testing the set with our training set. Since we have train our slope and intercept based on the training set already, the slope and intercept wereto desgined to be fit our data. That is the reason why all error over here was less than 1. And also the more data we consider would slightly increase the error but the sum will be less than one.\n",
    "\n",
    "Initially, n=5 the slope was 0.60149. Then, n=10, the slope was 0.97660019. Finally, n=1000, the slope was 0.992678, which was closer to 1."
   ]
  },
  {
   "cell_type": "code",
   "execution_count": 15,
   "metadata": {},
   "outputs": [
    {
     "name": "stdout",
     "output_type": "stream",
     "text": [
      "n=5:  [0.60443282]\n",
      "n=100:  [0.98186765]\n",
      "n=1000:  [0.99975183]\n"
     ]
    }
   ],
   "source": [
    "def average_training_set_error(x_vals,a=1,b=1,sd=1):\n",
    "    n = 1000\n",
    "    #define vector\n",
    "    slope_estimator= intercept_estimator=y_hat = predict_error =0\n",
    "    #set up 1000 training set\n",
    "    trainingSet = sample_datasets(x_vals,a,b,sd,n)\n",
    "    for i in range(n):\n",
    "        #Calculate the estimator of the slope and the intercept\n",
    "        slope_estimator = compute_slope_estimator(x_vals, trainingSet[i])\n",
    "        intercept_estimator= compute_intercept_estimator(x_vals, trainingSet[i])         \n",
    "        #use the estimated slope and intercept to compute predicted value y_hat\n",
    "        y_hat = slope_estimator * x_vals + intercept_estimator\n",
    "        \n",
    "        #use the cuntion to compute the predicted value y_hat and the store it in a numpy array\n",
    "        predict_error = predict_error+ calculate_prediction_error(trainingSet[i], y_hat)\n",
    "    return predict_error / n\n",
    "\n",
    "x_vals = np.linspace(0,1,5)\n",
    "a= average_training_set_error(x_vals)\n",
    "print(\"n=5: \",a)\n",
    "x_vals = np.linspace(0,1,100)\n",
    "a= average_training_set_error(x_vals)\n",
    "print(\"n=100: \",a)\n",
    "x_vals = np.linspace(0,1,1000)\n",
    "a= average_training_set_error(x_vals)\n",
    "print(\"n=1000: \",a)\n"
   ]
  },
  {
   "cell_type": "markdown",
   "metadata": {},
   "source": [
    "Problem 12 <br>\n",
    "Free response answer: As n increase the average_training_set_error decrease and become more close to the vlaue 1. This is much more intuitively correct. The more the data, the less the error.\n",
    " \n",
    "Initially, n=5 the set error was 1.303. Then, n=10, the set error was 1.022. Finally, n=1000, the set error was 1.008, which was closer to 1.\n"
   ]
  },
  {
   "cell_type": "code",
   "execution_count": 16,
   "metadata": {},
   "outputs": [
    {
     "name": "stdout",
     "output_type": "stream",
     "text": [
      "n=5:  [1.33229339]\n",
      "n=100:  [1.02157762]\n",
      "n=1000:  [1.00287442]\n"
     ]
    }
   ],
   "source": [
    "\n",
    "def average_test_set_error(x_vals,a=1,b=1,sd=1):\n",
    "    n = 1000\n",
    "    #define vector\n",
    "    predict_error = 0\n",
    "    slope_estimator= intercept_estimator=y_hat = predict_error =0\n",
    "    #set up 1000 training set\n",
    "    trainingSet = sample_datasets(x_vals,a,b,sd,n)\n",
    "    for i in range(n):\n",
    "        #Calculate the estimator of the slope and the intercept\n",
    "        slope_estimator = compute_slope_estimator(x_vals, trainingSet[i])\n",
    "        intercept_estimator= compute_intercept_estimator(x_vals, trainingSet[i])         \n",
    "        #use the estimated slope and intercept to compute predicted value y_hat\n",
    "        y_hat = slope_estimator * x_vals + intercept_estimator\n",
    "        \n",
    "        #use the cuntion to compute the predicted value y_hat and the store it in a numpy array\n",
    "        predict_error = predict_error+ calculate_prediction_error(sample_linear_model(x_vals,a,b,sd), y_hat)\n",
    "    return predict_error / n\n",
    "\n",
    "x_vals = np.linspace(0,1,num=5)\n",
    "a= average_test_set_error(x_vals)\n",
    "print(\"n=5: \",a)\n",
    "x_vals = np.linspace(0,1,num=100)\n",
    "a= average_test_set_error(x_vals)\n",
    "print(\"n=100: \",a)\n",
    "x_vals = np.linspace(0,1,num=1000)\n",
    "a= average_test_set_error(x_vals)\n",
    "print(\"n=1000: \",a)\n"
   ]
  },
  {
   "cell_type": "code",
   "execution_count": null,
   "metadata": {},
   "outputs": [],
   "source": []
  }
 ],
 "metadata": {
  "kernelspec": {
   "display_name": "Python 3",
   "language": "python",
   "name": "python3"
  },
  "language_info": {
   "codemirror_mode": {
    "name": "ipython",
    "version": 3
   },
   "file_extension": ".py",
   "mimetype": "text/x-python",
   "name": "python",
   "nbconvert_exporter": "python",
   "pygments_lexer": "ipython3",
   "version": "3.7.3"
  }
 },
 "nbformat": 4,
 "nbformat_minor": 2
}
