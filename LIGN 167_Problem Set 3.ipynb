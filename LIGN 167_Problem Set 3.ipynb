{
 "cells": [
  {
   "cell_type": "markdown",
   "metadata": {},
   "source": [
    "## LIGN 167: Problem Set 3\n",
    "### Name: Chih-Hsuan Kao\n",
    "### Date: November 6, 2018"
   ]
  },
  {
   "cell_type": "code",
   "execution_count": null,
   "metadata": {},
   "outputs": [],
   "source": [
    "# coding: utf-8\n",
    "\n",
    "import numpy as np\n",
    "import torch"
   ]
  },
  {
   "cell_type": "code",
   "execution_count": null,
   "metadata": {},
   "outputs": [],
   "source": [
    "def relu(x):\n",
    "    if x<0:\n",
    "        return 0\n",
    "    else:\n",
    "        return x\n",
    "\n",
    "def loss(y_predicted, y_observed):\n",
    "    return (y_predicted - y_observed)**2\n",
    "\n",
    "\n",
    "def mlp(x,W0,W1,W2):\n",
    "\n",
    "\n",
    "    r0_0 = x*W0[0]\n",
    "    r0_1 = x*W0[1]\n",
    "    r0_2 = x*W0[2]\n",
    "    r0 = np.array([r0_0,r0_1,r0_2])\n",
    "\n",
    "    h0_0 = relu(r0_0)\n",
    "    h0_1 = relu(r0_1)\n",
    "    h0_2 = relu(r0_2)\n",
    "    h0 = np.array([h0_0,h0_1,h0_2])\n",
    "\n",
    "    \n",
    "\n",
    "    r1_0 = h0_0*W1[0,0] + h0_1*W1[0,1]+ h0_2*W1[0,2]\n",
    "    r1_1 = h0_0*W1[1,0] + h0_1*W1[1,1]+ h0_2*W1[1,2]\n",
    "    r1_2 = h0_0*W1[2,0] + h0_1*W1[2,1]+ h0_2*W1[2,2]\n",
    "    r1 = np.array([r1_0,r1_1,r1_2])\n",
    "\n",
    "    h1_0 = relu(r1_0)\n",
    "    h1_1 = relu(r1_1)\n",
    "    h1_2 = relu(r1_2)\n",
    "    h1 = np.array([h1_0,h1_1,h1_2])\n",
    "\n",
    "    y_predicted = h1_0*W2[0] + h1_1*W2[1]+ h1_2*W2[2]\n",
    "\n",
    "    variable_dict = {}\n",
    "    variable_dict['x'] = x\n",
    "    variable_dict['r0'] = r0\n",
    "    variable_dict['h0'] = h0\n",
    "    variable_dict['r1'] = r1\n",
    "    variable_dict['h1'] = h1\n",
    "    variable_dict['y_predicted'] = y_predicted\n",
    "\n",
    "    return variable_dict\n",
    "\n",
    "\n",
    "x = 10\n",
    "W0 = np.array([1,2,3])\n",
    "W1 = np.array([[3,4,5],[-5,4,3],[3,4,1]])\n",
    "W2 = np.array([1,3,-3])\n",
    "b = mlp(x,W0,W1,W2)\n",
    "print(mlp(x,W0,W1,W2))\n",
    "\n",
    "### Pytorch Section \n",
    "\n",
    "def torch_mlp(x,W0,W1,W2):\n",
    "    m = torch.nn.ReLU()\n",
    "    h0 = m(torch.mul(W0,x))\n",
    "\n",
    "    h1 = m(torch.matmul(W1,h0))\n",
    "\n",
    "    y_predicted = torch.dot(W2,h1)\n",
    "\n",
    "    return y_predicted\n",
    "\n",
    "def torch_loss(y_predicted,y_observed):\n",
    "    return torch.pow(y_predicted-y_observed,2)\n",
    "\n",
    "\n",
    "x_torch = torch.tensor(x,dtype=torch.float)\n",
    "W0_torch = torch.tensor(W0,dtype=torch.float,requires_grad=True)\n",
    "W1_torch = torch.tensor(W1,dtype=torch.float,requires_grad=True)\n",
    "W2_torch = torch.tensor(W2,dtype=torch.float,requires_grad=True)\n",
    "output = torch_mlp(x_torch,W0_torch,W1_torch,W2_torch)\n",
    "\n",
    "\n",
    "#y_observed = 180;\n",
    "#loss = loss(output, y_observed)\n",
    "#print(loss)\n",
    "#loss.backward()\n",
    "#print('W0:', W0_torch)\n",
    "#print('W1:', W1_torch)\n",
    "#print('W2:', W2_torch)\n",
    "#print('W0.grad:', W0_torch.grad)\n",
    "#print('W1.grad:', W1_torch.grad)\n",
    "#print('W2.grad:', W2_torch.grad)\n",
    "\n",
    "#variable_dict = mlp(x,W0,W1,W2)\n",
    "#W0_grad = d_loss_d_W0(variable_dict,W1,W2,y_observed)\n",
    "#W1_grad = d_loss_d_W1(variable_dict,W2,y_observed)\n",
    "#W2_grad = d_loss_d_W2(variable_dict,y_observed)\n",
    "#print('W0_grad:', W0_grad)\n",
    "#print('W1_grad:', W1_grad)\n",
    "#print('W2_grad:', W2_grad)"
   ]
  },
  {
   "cell_type": "code",
   "execution_count": null,
   "metadata": {},
   "outputs": [],
   "source": [
    "#PROBLEM 1\n",
    "def d_loss_d_ypredicted(variable_dict,y_observed):\n",
    "    return 2*(variable_dict['y_predicted'] - y_observed)"
   ]
  },
  {
   "cell_type": "code",
   "execution_count": null,
   "metadata": {},
   "outputs": [],
   "source": [
    "#PROBLEM 2\n",
    "def d_loss_d_W2(variable_dict,y_observed):\n",
    "    return d_loss_d_ypredicted(variable_dict,y_observed) * variable_dict['h1']"
   ]
  },
  {
   "cell_type": "code",
   "execution_count": null,
   "metadata": {},
   "outputs": [],
   "source": [
    "#PROBLEM 3\n",
    "def d_loss_d_h1(variable_dict,W2,y_observed):\n",
    "    return d_loss_d_ypredicted(variable_dict,y_observed) * W2"
   ]
  },
  {
   "cell_type": "code",
   "execution_count": null,
   "metadata": {},
   "outputs": [],
   "source": [
    "#PROBLEM 4\n",
    "def relu_derivative(x):\n",
    "    if x<0:\n",
    "        return 0\n",
    "    else:\n",
    "        return 1"
   ]
  },
  {
   "cell_type": "code",
   "execution_count": null,
   "metadata": {},
   "outputs": [],
   "source": [
    "#PROBLEM 5\n",
    "def d_loss_d_r1(variable_dict,W2,y_observed):\n",
    "    dh = np.ones(3)\n",
    "    for i in range(3):\n",
    "        dh[i] = relu_derivative(variable_dict['h1'][i])\n",
    "    return d_loss_d_h1(variable_dict,W2,y_observed) * dh\n",
    "#print(d_loss_d_r1(variable_dict,W2,y_observed))"
   ]
  },
  {
   "cell_type": "code",
   "execution_count": null,
   "metadata": {},
   "outputs": [],
   "source": [
    "#PROBLEM 6\n",
    "def d_loss_d_W1(variable_dict,W2,y_observed):\n",
    "    return np.outer(d_loss_d_r1(variable_dict,W2,y_observed), variable_dict['h0'])\n",
    "#print(d_loss_d_W1(b,W2,y_observed))"
   ]
  },
  {
   "cell_type": "code",
   "execution_count": null,
   "metadata": {},
   "outputs": [],
   "source": [
    "#PROBLEM 7\n",
    "def d_loss_d_h0(variable_dict,W1,W2,y_observed):\n",
    "    dh = np.zeros(3);\n",
    "    dr1 = d_loss_d_r1(variable_dict,W2,y_observed);\n",
    "    dr1 = np.reshape(dr1,(1,3));\n",
    "    w0 = np.reshape(W1[:,0],(3,1))\n",
    "    w1 = np.reshape(W1[:,1],(3,1))\n",
    "    w2 = np.reshape(W1[:,2],(3,1))\n",
    "    dh[0] = np.dot(dr1,w0)\n",
    "    dh[1] = np.dot(dr1,w1)\n",
    "    dh[2] = np.dot(dr1,w2)\n",
    "    return dh\n",
    "#print(d_loss_d_h0(b,W1,W2,y_observed))"
   ]
  },
  {
   "cell_type": "code",
   "execution_count": null,
   "metadata": {},
   "outputs": [],
   "source": [
    "#PROBLEM 8\n",
    "def d_loss_d_r0(variable_dict,W1,W2,y_observed):\n",
    "    dh0 = d_loss_d_h0(variable_dict,W1,W2,y_observed)\n",
    "    r0 = variable_dict['r0']\n",
    "    dr0 = np.zeros(3);\n",
    "    dr0[0] = dh0[0]*relu_derivative(r0[0]);\n",
    "    dr0[1] = dh0[1]*relu_derivative(r0[1]);\n",
    "    dr0[2] = dh0[2]*relu_derivative(r0[2]);\n",
    "    return dr0\n",
    "#print(d_loss_d_r0(variable_dict,W1,W2,y_observed))"
   ]
  },
  {
   "cell_type": "code",
   "execution_count": null,
   "metadata": {},
   "outputs": [],
   "source": [
    "#PROBLEM 9\n",
    "def d_loss_d_W0(variable_dict,W1,W2,y_observed):\n",
    "    return d_loss_d_r0(variable_dict,W1,W2,y_observed) * variable_dict['x']"
   ]
  }
 ],
 "metadata": {
  "kernelspec": {
   "display_name": "cs224n",
   "language": "python",
   "name": "cs224n"
  },
  "language_info": {
   "codemirror_mode": {
    "name": "ipython",
    "version": 3
   },
   "file_extension": ".py",
   "mimetype": "text/x-python",
   "name": "python",
   "nbconvert_exporter": "python",
   "pygments_lexer": "ipython3",
   "version": "3.7.9"
  }
 },
 "nbformat": 4,
 "nbformat_minor": 2
}
